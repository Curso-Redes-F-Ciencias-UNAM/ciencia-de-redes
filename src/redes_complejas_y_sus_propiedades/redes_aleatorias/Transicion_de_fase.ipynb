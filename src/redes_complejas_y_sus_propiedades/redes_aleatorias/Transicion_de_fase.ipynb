{
  "nbformat": 4,
  "nbformat_minor": 0,
  "metadata": {
    "kernelspec": {
      "display_name": "Python 3",
      "language": "python",
      "name": "python3"
    },
    "language_info": {
      "codemirror_mode": {
        "name": "ipython",
        "version": 3
      },
      "file_extension": ".py",
      "mimetype": "text/x-python",
      "name": "python",
      "nbconvert_exporter": "python",
      "pygments_lexer": "ipython3",
      "version": "3.6.8"
    },
    "colab": {
      "name": "Transicion de fase.ipynb",
      "provenance": []
    }
  },
  "cells": [
    {
      "cell_type": "code",
      "metadata": {
        "id": "tZUbHeXQlzKZ"
      },
      "source": [
        "import numpy as np\n",
        "import networkx as nx\n",
        "import matplotlib.pyplot as plt\n",
        "import datetime"
      ],
      "execution_count": null,
      "outputs": []
    },
    {
      "cell_type": "code",
      "metadata": {
        "scrolled": true,
        "id": "6CPPbSg7lzKg"
      },
      "source": [
        "hora = datetime.datetime.now().time()\n",
        "print('Hora de inicio: %s:%s:%s'%(str(hora.hour).zfill(2), str(hora.minute).zfill(2), str(hora.second).zfill(2)))\n",
        "\n",
        "inicio = datetime.datetime.now()\n",
        "corridas = [1000, 100, 10, 1, 1]\n",
        "dominio = np.logspace(-6,0)\n",
        "N = [10, 100, 1000, 10000, 100000]\n",
        "\n",
        "Y = []\n",
        "for i in range(3):\n",
        "    #N = N[i]\n",
        "    Ndep = []\n",
        "    print('Red N = ',N[i])\n",
        "    for prob in dominio:\n",
        "        Ns = []\n",
        "        for j in range(corridas[i]):\n",
        "            G = nx.random_graphs.gnp_random_graph(n=N[i], p = prob)\n",
        "            Ns.append( len(max(list(nx.connected_components(G)), key=len)) )\n",
        "        Ndep.append(np.mean(Ns))\n",
        "    Y.append(Ndep)\n",
        "    tiempo = (datetime.datetime.now() - inicio).seconds\n",
        "    print(N[i],'nodos: tiempo de cálculo ', tiempo)\n",
        "\n",
        "\n",
        "for i in [3,4]:\n",
        "    Ndep = []\n",
        "    alerta = 0\n",
        "    print('Red N = ',N[i])\n",
        "    for prob in dominio:\n",
        "        print('probabilidad = ',prob)\n",
        "        Ns = []\n",
        "        for j in range(corridas[i]):\n",
        "            G = nx.random_graphs.gnp_random_graph(n=N[i], p = prob)\n",
        "            Ns.append( len(max(list(nx.connected_components(G)), key=len)) )\n",
        "        Ndep.append(np.mean(Ns))\n",
        "        if Ndep[-1] >= .95*N[i]:\n",
        "            alerta +=1\n",
        "            print('alerta: ',alerta)\n",
        "        if alerta == 5:\n",
        "            break\n",
        "    Y.append(Ndep)\n",
        "    tiempo = (datetime.datetime.now() - inicio).seconds\n",
        "    print(N[i],'nodos: tiempo de cálculo ', tiempo)"
      ],
      "execution_count": null,
      "outputs": []
    },
    {
      "cell_type": "code",
      "metadata": {
        "id": "5gr6ePaPlzKl"
      },
      "source": [
        "#Y.append(Ndep)\n",
        "#tiempo = (datetime.datetime.now() - inicio).seconds\n",
        "#print(N[i],'nodos: tiempo de cálculo ', tiempo)"
      ],
      "execution_count": null,
      "outputs": []
    },
    {
      "cell_type": "code",
      "metadata": {
        "id": "QououF8llzKm"
      },
      "source": [
        "Ns = [10, 100, 1000, 10000, 100000]\n",
        "plt.figure(figsize = [15,5])\n",
        "for i in range(5):  \n",
        "    ks = dominio*(Ns[i]-1)\n",
        "    plt.plot(dominio[:len(Y[i])], np.array(Y[i])/Ns[i], '-o', label = 'N = '+str(Ns[i]))    \n",
        "plt.xscale('log')\n",
        "plt.legend()"
      ],
      "execution_count": null,
      "outputs": []
    },
    {
      "cell_type": "code",
      "metadata": {
        "id": "Wj_oQG2DlzKo"
      },
      "source": [
        "Ns = [10, 100, 1000, 10000, 100000]\n",
        "plt.figure(figsize = [15,5])\n",
        "for i in range(5):  \n",
        "    #ks = dominio*(Ns[i]-1)\n",
        "    #plt.plot(ks, np.array(Y[i])/Ns[i], '-', label = Ns[i])\n",
        "    ks = dominio*(Ns[i]-1)\n",
        "    plt.plot(ks[:len(Y[i])], np.array(Y[i])/Ns[i], '-.', label = 'N = '+str(Ns[i]))\n",
        "plt.xscale('log')\n",
        "plt.legend()\n",
        "plt.xlim(10**(-2),10**2)"
      ],
      "execution_count": null,
      "outputs": []
    }
  ]
}