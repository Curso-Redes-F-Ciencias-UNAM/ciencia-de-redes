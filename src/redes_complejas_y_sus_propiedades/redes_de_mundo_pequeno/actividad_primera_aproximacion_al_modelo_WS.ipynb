{
  "cells": [
    {
      "cell_type": "markdown",
      "metadata": {},
      "source": [
        "# Primera aproximación al modelo Watts-Strogatz (notebook)"
      ]
    },
    {
      "cell_type": "code",
      "execution_count": null,
      "metadata": {
        "id": "Mp9CGUgKg4iB"
      },
      "outputs": [],
      "source": [
        "import networkx as nx\n",
        "import numpy as np\n",
        "import matplotlib.pyplot as plt"
      ]
    },
    {
      "cell_type": "markdown",
      "metadata": {
        "id": "MeL8LsG2XDlK"
      },
      "source": [
        "Watts y Strogatz parten de una red regular similar a la que generamos en las primeras sesiones prácticas. Le llamamos red anillo y tiene la característica de que su coeficiente de clustering es constante e independiente de $N$. Mediante esa estructura se puede generar una red tan grande como quiera.\n",
        "\n",
        "## Función anillo\n",
        "En la siguiente celda puedes decidir la cantidad de nodos adyacentes en el anillo con los que cada nodo estará conectado. Se necesita que estén conectados, como mínimo, a segundos vecinos para que el coeficiente de clustering sea distinto de cero. Juega con esa variable descomentando las líneas (o generando nuevas) y con el número de nodos de la red para ver cómo se comporta el coeficiente de clustering de los nodos.\n",
        "\n",
        "Notar que se modificó un poco la definición de la red anillo, introduciendo un segundo parámetro (```l```) para determinar con cuántos \"l-vecinos\" estará conectado cada nodo.\n"
      ]
    },
    {
      "cell_type": "code",
      "execution_count": null,
      "metadata": {
        "id": "sXQEHQVqhDKy"
      },
      "outputs": [],
      "source": [
        "\n",
        "\n",
        "#Red Anillo regular\n",
        "\n",
        "def Anillo(N, l = 2):\n",
        "    nodos = np.arange(N)\n",
        "    G = nx.Graph()\n",
        "    G.add_nodes_from( nodos )\n",
        "    \n",
        "    for i in range(l):\n",
        "        G.add_edges_from( zip( nodos, np.roll(nodos, i+1) ) )\n",
        "    return G"
      ]
    },
    {
      "cell_type": "code",
      "execution_count": null,
      "metadata": {
        "id": "2tmnwBuUXDlK"
      },
      "outputs": [],
      "source": [
        "# juega con ambos parámetros para ver la estructura y el coeficiente de clustering\n",
        "G = Anillo(10, 2) #\n",
        "print('el coeficiente de clustering de la red es : ', nx.clustering(G)[0])\n",
        "plt.figure(figsize = [5,5])\n",
        "nx.draw_circular(G)\n"
      ]
    },
    {
      "cell_type": "code",
      "execution_count": null,
      "metadata": {
        "id": "Ar4ZBLbNeS4z"
      },
      "outputs": [],
      "source": [
        "nx.diameter(G)"
      ]
    },
    {
      "cell_type": "markdown",
      "metadata": {
        "id": "6c26GleLVBrV"
      },
      "source": [
        "Ahora se presenta la misma red pero se distingue al primer nodo añadido, sólo con la intención de que lo distingan y lo utilicen como referencia cuando la red empiece a ser modificada. Ese es el nodo 0. En la siguiente celda también se calcula el diámetro de la red. Hasta ahora, como pueden verificarlo, el diámetro de la red es una función lineal del tamaño de los nodos; no tiene, en absoluto, la propiedad de mundo pequeño.\n",
        "\n",
        "¿Cómo se relaciona el diámetro con la definición de la red, es decir, si los nodos se conectan a segundos, terceros, cuartos, etc., vecinos?"
      ]
    },
    {
      "cell_type": "code",
      "execution_count": null,
      "metadata": {
        "id": "1a6IDryVVBrg"
      },
      "outputs": [],
      "source": [
        "G = Anillo(100,1)\n",
        "\n",
        "N = len(G)\n",
        "tamanos = [300]\n",
        "tamanos = tamanos + (N-1)*[25]\n",
        "colores = ['red']\n",
        "colores = colores + (N-1)*['blue']\n",
        "\n",
        "plt.figure(figsize = [5,5])\n",
        "nx.draw_circular(G, node_size = tamanos, node_color = colores)\n",
        "plt.show()\n",
        "\n",
        "print('Clustering = ', nx.average_clustering(G) ) \n",
        "print('Diametro = ', nx.diameter(G) ) "
      ]
    },
    {
      "cell_type": "markdown",
      "metadata": {
        "id": "q6UAz9-HXDlL"
      },
      "source": [
        "## Matriz de distancia, distancia promedio y diámetro\n",
        "Ahora, para visualizar el comportamiento de las distancias entre cualquier pareja de nodos, utilizamos una representación gráfica (mediante ```imshow```) de la matriz de distancias entre nodos.\n",
        "Para ello se genera una matriz cuadrada de $N \\times N$ y se asigna a cada entrada $(i,j)$ la distancia $d_{ij}$ entre los nodos $(i,j)$.\n",
        "\n",
        "Después, mediante el uso de la función ```plt.subplots``` se visualizan la matriz de adyacencia y la red juntas. Utilicen esta representación para comprender la estructura de la matriz de distancias y cómo se relacionan el diámetro y la distancia promedio."
      ]
    },
    {
      "cell_type": "code",
      "execution_count": null,
      "metadata": {
        "id": "UgksXaPB0Vsc"
      },
      "outputs": [],
      "source": [
        "# Matriz de distancias y distancias caracteristicas\n",
        "\n",
        "MatD0 = np.zeros([N,N])\n",
        "for i in range(N):\n",
        "    for j in range(N):\n",
        "        MatD0[i,j] = nx.shortest_path_length(G, i, j)\n",
        "dmin = np.min(MatD0)\n",
        "dmax = np.max(MatD0)"
      ]
    },
    {
      "cell_type": "code",
      "execution_count": null,
      "metadata": {
        "id": "HggSzPY80ema"
      },
      "outputs": [],
      "source": [
        "h = .6 #parametro para jugar con el tamaño de la imagen\n",
        "fig, (ax1,ax2) = plt.subplots(nrows=1, ncols=2, figsize = (20*h,7*h)) \n",
        "nx.draw_circular(G, node_size = tamanos, node_color = colores, ax = ax2)\n",
        "\n",
        "\n",
        "pos = ax1.imshow(MatD0, vmin=dmin, vmax=dmax)\n",
        "fig.colorbar(pos, ax=ax1)\n",
        "\n",
        "ax1.set_title('Distancias')\n",
        "ax1.set_xlabel('Nodo j')\n",
        "ax1.set_ylabel('Nodo i')\n",
        "\n",
        "ax2.set_title('Red')\n",
        "plt.show()\n",
        "\n",
        "print('Distancia máxima entre nodos (diámetro): \\t', np.max(MatD0))\n",
        "print('Distancia promedio entre nodos: \\t\\t', np.mean(MatD0))\n",
        "print('Coeficiente de clustering promedio de la red: \\t', nx.average_clustering(G))\n"
      ]
    },
    {
      "cell_type": "markdown",
      "metadata": {
        "id": "5RMIkkcvVBr7"
      },
      "source": [
        "## Función cambio de enlaces\n",
        "La idea principal de Watts y Strogatz fue reducir la distancia entre todas las parejas de nodos cambiando de forma aleatoria enlaces. Esto generaría \"puentes\" entre enlaces que originalmente están lejanos pero que podrían modificar la estructura completa de las distancias. Veamos esto con detalle.\n",
        "\n",
        "Primero hay que definir una red ```cambio_enlace``` que hace lo siguiente:\n",
        "- selecciona un nodo aleatorio de la red mediante la función ```np.random.choice``` que toma un objeto iterable y regresa un elemento al azar. \n",
        "- selecciona un nodo entre los vecinos del primer nodo.\n",
        "- remueve el enlace entre esos dos nodos\n",
        "- de los nodos restantes, elije uno al azar. Para esto se utiliza la estructura de conjuntos en python. Los conjuntos pueden restarse para sacar los elementos de un conjunto de entre los elementos de otro. Aquí se toma el conjunto de los nodos de G mediante ```set(G)``` y se le quitan dos conjuntos: el conjunto de los vecinos del nodo original, mediante ```set(G[nodo1])``` y el conjunto cuyo único elemento es el nodo original ```set([nodo1])```.\n",
        "- se establece el nuevo enlace entre el nodo original y el nuevo nodo."
      ]
    },
    {
      "cell_type": "code",
      "execution_count": null,
      "metadata": {
        "id": "CDVyzFDXVBr-"
      },
      "outputs": [],
      "source": [
        "def cambio_enlace(G):\n",
        "  # ojo con el uso de los conjutos (set)\n",
        "  nodo1 = np.random.choice(G)\n",
        "  nodo2 = np.random.choice( G[nodo1] )\n",
        "  G.remove_edge(nodo1, nodo2)\n",
        "  seleccion = set(G) - set(G[nodo1]) - set([nodo1])\n",
        "  \n",
        "  nuevo_nodo = np.random.choice( list(seleccion) )\n",
        "  \n",
        "  G.add_edge(nodo1, nuevo_nodo)\n"
      ]
    },
    {
      "cell_type": "markdown",
      "metadata": {
        "id": "01IGc0rEXDlN"
      },
      "source": [
        "Para aplicarlo a una red y luego comparar las modificaciones, se genera una red y su copia, y se le aplica el reenlace y se visualizan la red y la matriz de distancias.\n",
        "- Genera una red anillo con los parámetros que elijas.\n",
        "- Luego corre la casilla que dice \"Modificación de la red\". Esa casilla puedes correrla muchas veces para ver qué ocurre con la red y con la matriz si se modifican uno, dos, tres, cuatro, etc., enlaces. \n",
        "- Para reiniciar debes volver a correr la casilla que dice \"Generar redes\"\n",
        "\n",
        "Algunas preguntas para orientar la observación:\n",
        "- ¿Por qué la primera modificación del enlace no disminuye el diámetro?\n",
        "- ¿Qué característica tienen los nuevos enlaces que disminuyen más la distancia promedio?\n",
        "- ¿Qué característica tienen los nuevos enlaces que casi no disminuyen la distancia promedio?\n",
        "- ¿Cuántos cambios de enlace debes realizar para que el coeficiente de clustering disminuya a la mitad? ¿Qué pasó en ese caso con la distancia promedio y el diámetro?"
      ]
    },
    {
      "cell_type": "code",
      "execution_count": null,
      "metadata": {
        "id": "IuOr_7a5h4Cq"
      },
      "outputs": [],
      "source": [
        "# Generar redes\n",
        "N = 100\n",
        "l = 3\n",
        "\n",
        "G = Anillo(N, l)\n",
        "\n",
        "G2 = G.copy()"
      ]
    },
    {
      "cell_type": "code",
      "execution_count": null,
      "metadata": {
        "id": "_n1l8Nzuyakw"
      },
      "outputs": [],
      "source": [
        "# Modificación de la red\n",
        "\n",
        "cambio_enlace(G2)\n",
        "\n",
        "MatD = np.zeros([N,N])\n",
        "for i in range(N):\n",
        "    for j in range(N):\n",
        "        MatD[i,j] = nx.shortest_path_length(G2, i, j)\n",
        "\n",
        "        \n",
        "        \n",
        "h = .6\n",
        "\n",
        "fig, (ax1,ax2) = plt.subplots(nrows=1, ncols=2, figsize = (20*h,7*h)) \n",
        "nx.draw_circular(G2, node_size = tamanos, node_color = colores, ax = ax2)\n",
        "\n",
        "\n",
        "#fig, ax = plt.subplots(figsize = (10*h,7*h)) \n",
        "pos = ax1.imshow(MatD, vmin=dmin, vmax=dmax)\n",
        "fig.colorbar(pos, ax=ax1)\n",
        "ax1.set_title('Distancias')\n",
        "ax1.set_xlabel('Nodo j')\n",
        "ax1.set_ylabel('Nodo i')\n",
        "\n",
        "ax2.set_title('Red')\n",
        "\n",
        "plt.show()\n",
        "print('Diametro: \\t\\t', np.max(MatD0), '-->',np.max(MatD))\n",
        "print('Distancia media: \\t', np.mean(MatD0), '-->', np.mean(MatD))\n",
        "print('Clustering: \\t\\t', nx.average_clustering(G), '-->', nx.average_clustering(G2))\n"
      ]
    },
    {
      "cell_type": "markdown",
      "metadata": {
        "id": "6wOt4017VBsY"
      },
      "source": [
        "Para responder a las preguntas anteriores se puede hacer el proceso de forma más sistemática si se usa un bucle para aplicar la función varias veces. Juega con eso en la siguiente casilla. Como puedes ver, el bucle sólo toma cinco líneas, el resto son instrucciones para la visualización y comparación de las redes y las matrices, inciales y finales."
      ]
    },
    {
      "cell_type": "markdown",
      "metadata": {
        "id": "eDf81I19XLSx"
      },
      "source": [
        "### Varias veces"
      ]
    },
    {
      "cell_type": "code",
      "execution_count": null,
      "metadata": {
        "id": "W8wb-TfUvzGu"
      },
      "outputs": [],
      "source": [
        "G2 = G.copy()\n",
        "\n",
        "veces = 15\n",
        "\n",
        "for k in range(veces):\n",
        "    cambio_enlace(G2)\n",
        "\n",
        "\n",
        "MatD = np.zeros([N,N])\n",
        "\n",
        "for i in range(N):\n",
        "    for j in range(N):\n",
        "        MatD[i,j] = nx.shortest_path_length(G2, i, j)\n",
        "\n",
        "        \n",
        "        \n",
        "h = .5\n",
        "\n",
        "fig, (ax1,ax2) = plt.subplots(nrows=1, ncols=2, figsize = (20*h,7*h)) \n",
        "nx.draw_circular(G, node_size = tamanos, node_color = colores, ax = ax2)\n",
        "\n",
        "\n",
        "#fig, ax = plt.subplots(figsize = (10*h,7*h)) \n",
        "pos = ax1.imshow(MatD0, vmin=dmin, vmax=dmax)\n",
        "fig.colorbar(pos, ax=ax1)\n",
        "\n",
        "ax1.set_title('Distancias')\n",
        "ax1.set_xlabel('Nodo j')\n",
        "ax1.set_ylabel('Nodo i')\n",
        "\n",
        "ax2.set_title('Red')\n",
        "plt.show()\n",
        "\n",
        "\n",
        "fig, (ax1,ax2) = plt.subplots(nrows=1, ncols=2, figsize = (20*h,7*h)) \n",
        "nx.draw_circular(G2, node_size = tamanos, node_color = colores, ax = ax2)\n",
        "\n",
        "\n",
        "#fig, ax = plt.subplots(figsize = (10*h,7*h)) \n",
        "pos = ax1.imshow(MatD, vmin=dmin, vmax=dmax)\n",
        "fig.colorbar(pos, ax=ax1)\n",
        "ax1.set_title('Distancias')\n",
        "ax1.set_xlabel('Nodo j')\n",
        "ax1.set_ylabel('Nodo i')\n",
        "\n",
        "ax2.set_title('Red')\n",
        "\n",
        "plt.show()\n",
        "print('Diametro: ', np.max(MatD0), '-->',np.max(MatD))\n",
        "print('Distancia media: ', np.mean(MatD0), '-->', np.mean(MatD))\n",
        "print('Clustering: ', nx.average_clustering(G), '-->', nx.average_clustering(G2))"
      ]
    },
    {
      "cell_type": "markdown",
      "metadata": {
        "id": "0tpKHHQ2hB81"
      },
      "source": [
        "### Comportamiento de diámetro, distancia media y clustering\n",
        "\n",
        "Como ejercicio. Genera ahora unas gráficas de diámetro, distancia media y clustering en función del número de enlaces que se modificaron en la red. Lo que se quiere es visualizar cuál disminuye más rápido, y qué tan rápido."
      ]
    },
    {
      "cell_type": "code",
      "execution_count": null,
      "metadata": {
        "id": "-3Eu722LVBs0"
      },
      "outputs": [],
      "source": [
        "#Genera la red anillo\n",
        "#### INICIO EJERCICIO\n",
        "\n",
        "N = \n",
        "l = \n",
        "\n",
        "G = Anillo(N,l)\n",
        "\n",
        "G2 = G.copy()\n",
        "#### FINAL  EJERCICIO      \n",
        "# Generar una lista para cada variable. El primer elemento de cada lista es el valor inicial del diámetro\n",
        "# la distancia promedio y el coeficiente de clustering promedio de la red.\n",
        "\n",
        "Diam = [nx.diameter(G2)]\n",
        "Dist = [nx.average_shortest_path_length(G2)]\n",
        "Clus = [nx.average_clustering(G2)]\n",
        "\n",
        "\n",
        "\n",
        "# Aplica la fucnión cambio_enlace varias veces (define cuantas veces), y cada vez que lo apliques, calcula los nuevos valores \n",
        "# y agrégalos a la lista usando lista.append(valor). Para ello haz un bucle usando k\n",
        "\n",
        "k =  #numero de veces que se aplicará la función\n",
        "\n",
        "for i in range(k):\n",
        "    ### INICIO EJERCICIO\n",
        "    # aplica la funcion\n",
        "    \n",
        "    # agrega los valores a las correspondientes listas\n",
        "    \n",
        "    \n",
        "    ### FINAL EJERCICIO\n",
        "    \n",
        "\n",
        "    # Las siguientes líneas hacen una gráfica simple de las listas de valores generados. \n",
        "# El diámetro y la distancia promedio se grafican juntas, el clustering aparte.\n",
        "plt.plot(Diam)\n",
        "plt.plot(Dist)\n",
        "plt.show()\n",
        "\n",
        "\n",
        "plt.plot(Clus)\n",
        "plt.show()"
      ]
    },
    {
      "cell_type": "markdown",
      "metadata": {
        "id": "p50d2x2KXDlV"
      },
      "source": [
        "¿Qué puedes decir respecto al comportamiento de las distancias y el clustering? ¿Cómo decaen? ¿Cuál decae más rápido?\n",
        "\n",
        "\n",
        "Para disminuir las fluctuaciones, puedes hacer varias corridas, guardar toda la información de cada corrida y al final promediarlo. A continuación se les proporciona el inicio y el final del proceso, en medio deben rellenar con el procedimiento que hicieron antes:\n",
        "\n",
        "(se les recomiendan 15 corridas, para que no tarde tanto)"
      ]
    },
    {
      "cell_type": "code",
      "execution_count": null,
      "metadata": {
        "id": "gcqo2CQDVBs7"
      },
      "outputs": [],
      "source": [
        "# Se generan las listas donde se introducirán las listas de los valores de cada corrida.\n",
        "N = 100\n",
        "l = 3\n",
        "\n",
        "G = Anillo(N,l)\n",
        "\n",
        "\n",
        "DIAM = []\n",
        "DIST = []\n",
        "CLUS = []\n",
        "\n",
        "corridas = 10\n",
        "\n",
        "for l in range(corridas):\n",
        "    #### INICIO EJERCICIO Haz lo mismo que hiciste en la casilla anterior, pero ahora dentro de este bucle para que se haga varias veces\n",
        "    G2 = G.copy()\n",
        "\n",
        "    #crea las listas de cada variable aplicada a G2\n",
        "\n",
        "\n",
        "    \n",
        "    k = 20 # numero de cambio de enlaces\n",
        "    for i in range(k):\n",
        "      #aplica la función cambio de enlace y agrega las nuevas propiedades de la red a las listas\n",
        "\n",
        "\n",
        "\n",
        "    #### FINAL EJERCICIO\n",
        "    \n",
        "    #las siguientes lineas agregan la información de cada corrida a una lista\n",
        "    DIAM.append(Diam)\n",
        "    DIST.append(Dist)\n",
        "    CLUS.append(Clus)\n",
        "  \n"
      ]
    },
    {
      "cell_type": "markdown",
      "metadata": {
        "id": "0dVE-RlhXDlW"
      },
      "source": [
        "Mediante la función de numpy ```np.mean()``` aclarando el eje sobre el que aplicaremos el promedio, se hace el promedio sobre todas las corridas de los valores correspondientes a cada entrada de las listas. Dicho de otro modo, se obtiene el promedio de todas las corridas para el valor cada vez que aplicamos la función de cambio de enlace"
      ]
    },
    {
      "cell_type": "code",
      "execution_count": null,
      "metadata": {
        "id": "50jjhugyVBtD"
      },
      "outputs": [],
      "source": [
        "\n",
        "Y1 = np.mean(np.array(DIAM), axis = 0)\n",
        "Y2 = np.mean(np.array(DIST), axis = 0)\n",
        "Y3 = np.mean(np.array(CLUS), axis = 0)"
      ]
    },
    {
      "cell_type": "code",
      "execution_count": null,
      "metadata": {
        "id": "B1CWOyHnVBtJ"
      },
      "outputs": [],
      "source": [
        "plt.plot(Y1)\n",
        "plt.plot(Y2)\n",
        "plt.ylim([0,None])\n",
        "plt.ylabel('Distancias')\n",
        "plt.show()\n",
        "\n",
        "plt.plot(Y3)\n",
        "plt.ylim([0,None])\n",
        "plt.ylabel('Clustering')\n",
        "plt.show()"
      ]
    },
    {
      "cell_type": "markdown",
      "metadata": {
        "id": "Ght1kjhRXDlW"
      },
      "source": [
        "De nuevo. ¿Qué puedes decir respecto al comportamiento de las distancias y el clustering? ¿Cómo decaen? ¿Cuál decae más rápido?"
      ]
    },
    {
      "cell_type": "markdown",
      "metadata": {
        "id": "Sjnk6PJeLP9b"
      },
      "source": [
        "## El \"experimento\" de Watts-Strogatz\n",
        "\n",
        "Ahora que se ha generado un poco de intuición, se genera una nueva función más apegada a la propuesta de Watts y Strogatz. En esta, se parte de una red regular (que hemos llamado anillo) se le cambian un porcentaje de enlaces dados por una probabilidad $0 \\le p \\le 1$. \n",
        "\n",
        "A continucación se les proporciona la función ```re_enlazar``` que:\n",
        "- toma la red y el parámetro $p$\n",
        "- recorre todos los enlaces (originales) y con probabilidad $p$ los modifica.\n",
        "\n",
        "El principio es el mismo que como se trabajó antes. Revisen el código con cuidado y jueguen con los parámetros.\n"
      ]
    },
    {
      "cell_type": "code",
      "execution_count": null,
      "metadata": {
        "id": "NCbtmSEgiT6u"
      },
      "outputs": [],
      "source": [
        "def re_enlazar(G, p):\n",
        "  nodos = set(G)\n",
        "  \n",
        "  for enlace in G.edges():\n",
        "    if np.random.rand() < p:\n",
        "      u, v = enlace\n",
        "      eleccion = nodos -{u} - set(G[u])\n",
        "      nuevo_v = np.random.choice( list(eleccion) )\n",
        "      G.remove_edge(u,v)\n",
        "      G.add_edge(u, nuevo_v)"
      ]
    },
    {
      "cell_type": "code",
      "execution_count": null,
      "metadata": {
        "id": "Y2NpdimSkKNv"
      },
      "outputs": [],
      "source": [
        "N = 100\n",
        "l = 3\n",
        "\n",
        "G = Anillo(N, l)\n",
        "\n",
        "re_enlazar(G, .1)\n",
        "\n",
        "plt.figure(figsize = [5,5])\n",
        "nx.draw_circular(G)\n"
      ]
    }
  ],
  "metadata": {
    "colab": {
      "collapsed_sections": [],
      "name": "Watts_Strogatz_(mundo_pequeño).ipynb",
      "provenance": []
    },
    "kernelspec": {
      "display_name": "Python 3",
      "language": "python",
      "name": "python3"
    },
    "language_info": {
      "codemirror_mode": {
        "name": "ipython",
        "version": 3
      },
      "file_extension": ".py",
      "mimetype": "text/x-python",
      "name": "python",
      "nbconvert_exporter": "python",
      "pygments_lexer": "ipython3",
      "version": "3.6.8"
    }
  },
  "nbformat": 4,
  "nbformat_minor": 0
}
