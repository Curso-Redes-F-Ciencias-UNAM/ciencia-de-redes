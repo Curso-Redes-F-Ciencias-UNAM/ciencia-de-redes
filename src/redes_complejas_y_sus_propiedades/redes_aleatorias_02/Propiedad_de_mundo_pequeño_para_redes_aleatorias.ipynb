{
  "nbformat": 4,
  "nbformat_minor": 0,
  "metadata": {
    "colab": {
      "name": "Propiedad de mundo pequeño para redes aleatorias.ipynb",
      "provenance": [],
      "collapsed_sections": []
    },
    "kernelspec": {
      "name": "python3",
      "display_name": "Python 3"
    }
  },
  "cells": [
    {
      "cell_type": "code",
      "metadata": {
        "id": "n4VX-mdH--59"
      },
      "source": [
        "import networkx as nx\n",
        "import numpy as np\n",
        "import matplotlib.pyplot as plt"
      ],
      "execution_count": null,
      "outputs": []
    },
    {
      "cell_type": "code",
      "metadata": {
        "id": "4WgCzJ34e3Xo"
      },
      "source": [
        "\n",
        "k = 50 #dar un valor a k\n",
        "sizes = []\n",
        "average_distances = []\n",
        "\n",
        "print('N\\t|\\tlog(N)\\t\\t|\\t<d>')\n",
        "print('-------------------------------------------------')\n",
        "for i in range(100): \n",
        "    N = k+10*(i)\n",
        "    sizes.append(N)\n",
        "    p = k/(N-1)\n",
        "    d = []\n",
        "\n",
        "    G = nx.random_graphs.gnp_random_graph(N, p)\n",
        "    while not nx.is_connected(G):\n",
        "        G = nx.random_graphs.gnp_random_graph(10, p)\n",
        "    d.append(nx.average_shortest_path_length(G))\n",
        "    average_distances.append(np.mean(d))\n",
        "    \n",
        "    print('%i\\t|\\t%f\\t|\\t%f'%(N, np.log10(N), average_distances[-1]))"
      ],
      "execution_count": null,
      "outputs": []
    },
    {
      "cell_type": "code",
      "metadata": {
        "id": "I7uhaH05f1IQ"
      },
      "source": [
        "plt.figure(figsize = [10,5])\n",
        "plt.plot(sizes, average_distances, label = '<d>')\n",
        "plt.plot(sizes, np.log10(np.array(sizes)), '--', label = 'log(N)')\n",
        "\n",
        "#descomentando la siguiente linea puedes cambiar a escala logaritmica en x, para comparar la distancia y al lotaritmo.\n",
        "#plt.xscale('log')\n",
        "plt.xlabel('N')\n",
        "plt.ylabel('<d>')\n",
        "\n",
        "plt.legend()\n"
      ],
      "execution_count": null,
      "outputs": []
    },
    {
      "cell_type": "markdown",
      "metadata": {
        "id": "G5mkVI26hJon"
      },
      "source": [
        "Si tienen ganas y tiempo, pueden extender un orden de magnitud más el análisis para ver el comportamiento, corriendo la siguiente celda. Puede tomar varios minutos (hasta 30)"
      ]
    },
    {
      "cell_type": "code",
      "metadata": {
        "id": "xaouoNzTJ3PV"
      },
      "source": [
        "for i in range(1,10): \n",
        "    N = k+1000*(i)\n",
        "    sizes.append(N)\n",
        "    p = k/(N-1)\n",
        "    d = []\n",
        "\n",
        "    G = nx.random_graphs.gnp_random_graph(N, p)\n",
        "    while not nx.is_connected(G):\n",
        "        G = nx.random_graphs.gnp_random_graph(10, p)\n",
        "    d.append(nx.average_shortest_path_length(G))\n",
        "    average_distances.append(np.mean(d))\n",
        "    \n",
        "    print('%i\\t|\\t%f\\t|\\t%f'%(N, np.log10(N), average_distances[-1]))"
      ],
      "execution_count": null,
      "outputs": []
    },
    {
      "cell_type": "code",
      "metadata": {
        "id": "Jryp7SsRgyHh"
      },
      "source": [
        "plt.figure(figsize = [10,5])\n",
        "plt.plot(sizes, average_distances, label = '<d>')\n",
        "plt.plot(sizes, np.log10(np.array(sizes)), '--', label = 'log(N)')\n",
        "\n",
        "#descomentando la siguiente linea puedes cambiar a escala logaritmica en x, para comparar la distancia y al lotaritmo.\n",
        "plt.xscale('log')\n",
        "plt.xlabel('N')\n",
        "plt.ylabel('<d>')\n",
        "\n",
        "plt.legend()"
      ],
      "execution_count": null,
      "outputs": []
    },
    {
      "cell_type": "code",
      "metadata": {
        "id": "9E-Y7kfOiIyu"
      },
      "source": [
        ""
      ],
      "execution_count": null,
      "outputs": []
    }
  ]
}