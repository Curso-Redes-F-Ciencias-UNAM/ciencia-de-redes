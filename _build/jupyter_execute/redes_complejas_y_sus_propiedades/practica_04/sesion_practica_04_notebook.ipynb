{
 "cells": [
  {
   "cell_type": "markdown",
   "metadata": {
    "id": "FpZJqGjBJRwY"
   },
   "source": [
    "# Práctica 4 (notebook)\n",
    "En este notebook se coninúa el análisis de las redes aleatoria de Erdős-Rényi conocidas como $G(N,p)$. Se termina con el análisis de algunas propiedades sobre las que se profundizará en algunos videos esta semana, particularmente:\n",
    "- la distribución de grado de una red aleatoria satisface una distribución binomial\n",
    "- la distribución de grado de una red aleatoria cuando $\\frac{\\left< k\\right>}{N} \\ll 1 $ (condición satisfecha en general por las redes reales) tiende a una distribución de Poisson\n",
    "\n",
    "Con esto en mente, aplicaremos este primer modelo analítico a la descripción de una red real. La conclusión que podemos adelantar es que casi ninguna de las redes reales de interés son bien modeladas por las redes aleatorias."
   ]
  },
  {
   "cell_type": "code",
   "execution_count": null,
   "metadata": {
    "id": "4eHq6V9HJRwg"
   },
   "outputs": [],
   "source": [
    "import networkx as nx\n",
    "import numpy as np\n",
    "import matplotlib.pyplot as plt"
   ]
  },
  {
   "cell_type": "markdown",
   "metadata": {
    "id": "A6iDfUqnJRwk"
   },
   "source": [
    "Se utilizará la primera definición de red aleatoria que se propuso en la práctica anterior, es decir, a partir de la probabilidad de enlace:"
   ]
  },
  {
   "cell_type": "code",
   "execution_count": null,
   "metadata": {
    "id": "dhWaBcqJJRwl"
   },
   "outputs": [],
   "source": [
    "def enlaces_aleatorios(N, p):\n",
    "  for i in range(N):\n",
    "    for j in range(i):\n",
    "      if np.random.rand() < p:\n",
    "        yield i,j\n",
    "\n",
    "def red_aleatoria(N, p):\n",
    "  G = nx.Graph()\n",
    "  G.add_nodes_from(range(N)) # agrega todos los nodos\n",
    "  \n",
    "  G.add_edges_from( enlaces_aleatorios(N, p) ) # agrega los enlaces obedeciendo la probabilidad p\n",
    "  \n",
    "  return G\n"
   ]
  },
  {
   "cell_type": "markdown",
   "metadata": {
    "id": "fEH3XjqAJRwm"
   },
   "source": [
    "## Distribución (de probabilidad) de grado\n",
    "Lo último que se hizo la práctica pasada fue el histograma de grados, o distribución de grados, como función de $N$ y $p$. A continuación se recupera la celda de la práctica anterior con la que se obtuvo $N_k$, es decir, el número de nodos que tienen grado $k$\n"
   ]
  },
  {
   "cell_type": "code",
   "execution_count": null,
   "metadata": {
    "id": "yuJFy8j_JRwo"
   },
   "outputs": [],
   "source": [
    "N = 101\n",
    "p = .5\n",
    "corridas = 100\n",
    "\n",
    "\n",
    "Y = np.zeros(N-1)\n",
    "\n",
    "for i in range(corridas):\n",
    "    G = red_aleatoria(N,p)\n",
    "    y, x = np.histogram([dict(G.degree)[i] for i in G], bins = range(N))\n",
    "    Y += y\n",
    "Y = Y/corridas\n",
    "\n",
    "plt.figure(figsize = [10,5])\n",
    "plt.bar(x[:-1],Y)\n",
    "plt.xlabel('k', size = 10)\n",
    "plt.ylabel('Nk', size = 10)\n",
    "plt.title('Red aleatoria, N = %i, p = %1.2f' %(N,p), size = 20)"
   ]
  },
  {
   "cell_type": "markdown",
   "metadata": {
    "id": "dbSw3D4IJRwo"
   },
   "source": [
    "La única modificación que se hará a partir de ahora es aquella referente a pasar de $N_k$ a $P_k$, es decir, pasar del histograma a la distribución de probabilidad mediante $P_k = N_k / N$. Esto se puede hacer directamente utilizando el parámetro ```density``` de la función ```np.histogram```. \n",
    "\n",
    "Como se verá en los videos, la distribución de probabilidad de grado de la red aleatoria es una distribución binomial, por lo que la importaremos a continuación. De este modo, a la distribución de grado se puede incorporar la binomial correspondiente. Consideraciones:\n",
    "- la variable ```x```, que se crea con la función ```histogram```, es un arreglo correspondiente al dominio, es decir, los número naturales hasta $N-1$. Por ser un arreglo se le puede aplicar también una función.\n",
    "- la función que se le aplica es la función ```binom.pmf()```, que dentro del conjunto de funciones que importamos con ```binom```, es la que proporciona la *probability mass function*, es decir, la distribución de probabilidad que nos interesa. Esa es la que graficamos en rojo. Para más información: https://docs.scipy.org/doc/scipy-0.14.0/reference/generated/scipy.stats.binom.html\n",
    "\n",
    "\n",
    "Jueguen nuevamente con $N$ y $p$ para ver cómo se relacionan con la distribución de probabilidad. También jueguen con el número de corridas para ver cómo aumentan o disminuyen las fluctuaciones respecto a la línea base; no perder de vista que estamos frente a un experimento estocástico."
   ]
  },
  {
   "cell_type": "code",
   "execution_count": null,
   "metadata": {
    "id": "XFZyZWXQJRwq"
   },
   "outputs": [],
   "source": [
    "from scipy.stats import binom "
   ]
  },
  {
   "cell_type": "code",
   "execution_count": null,
   "metadata": {
    "id": "c0YJA2ReJRws"
   },
   "outputs": [],
   "source": [
    "# Se definen los parámetros\n",
    "N = 101\n",
    "p = .5\n",
    "corridas = 500\n",
    "\n",
    "# Y es el arreglo en el que se acumularán las observaciones para luego promediarlas\n",
    "Y = np.zeros(N-1)\n",
    "\n",
    "for i in range(corridas):\n",
    "    G = red_aleatoria(N,p)\n",
    "    y, x = np.histogram([dict(G.degree)[i] for i in G], bins = range(N), density = True)\n",
    "    Y += y\n",
    "\n",
    "# Se obtiene el promedio sobre todas las corridas\n",
    "Y = Y/corridas\n",
    "\n",
    "\n",
    "# Se genera la gráfica\n",
    "plt.figure(figsize = [10,5])\n",
    "# La distribución de probabilidad como gráfica de barras\n",
    "plt.bar(x[:-1],Y, label = 'Pk') \n",
    "\n",
    "# La distribución binomial como una línea roja. Se grafica la función binomial de x, contra x.\n",
    "plt.plot(x[:-1], binom.pmf(x[:-1],N-1,p), 'r', label = 'Binomial')\n",
    "\n",
    "# Se ponen los títulos de los ejes y la gráfica\n",
    "plt.xlabel('k', size = 20)\n",
    "plt.title('Red aleatoria, N = %i, p = %1.2f' %(N,p), size = 20)\n",
    "plt.legend()"
   ]
  },
  {
   "cell_type": "markdown",
   "metadata": {
    "id": "ho2MRKH4JRwy"
   },
   "source": [
    "Ahora se utilizará la expresión que encontraron en la práctica pasada que relaciona al valor esperado del grado promedio* $\\left< k \\right>$ con $N$ y $p$, $$\\left< k \\right> = p(N-1)$$ para fijar $\\left< k \\right>$ y variar el tamaño de la red. Lo que queremos es una forma de comparar las distribuciones de probabilidad de redes distintas y la mejor forma de hacerlo es obligarlas a tener el centro (el valor esperado) en el mismo punto. \n",
    "\n",
    "*Notar que estamos hablando de dos tipos de promedios: $\\left< k \\right>$ es el promedio sobre el conjunto de nodos, se toma el grado para cada nodo y se promedia, para cada red. Por otro lado, se está tomando el promedio de esa cantidad sobre un conjunto de corridas o, lo que es lo mismo, un conjunto (ensemble) de redes aleatorias. Por eso hablamos de valor esperado del grado promedio. Se podría usar la notación $E[\\left< k \\right>]$ para referirnos a ese valor esperado, pero en los libros de consulta no lo hacen así que llamamos a advertir la diferencia y evitar confusiones.\n",
    "\n",
    "Juega con $\\left< k \\right>$, el número de corridas y los tamaños de la red para ver cuál es el efecto sobre la distribución:"
   ]
  },
  {
   "cell_type": "code",
   "execution_count": null,
   "metadata": {
    "id": "ohNpstQhJRwz"
   },
   "outputs": [],
   "source": [
    "k = 50 # se fija el valor para el grado promedio. La única condición es que debe ser menor que N. \n",
    "\n",
    "\n",
    "corridas = 10 # se puede variar el número de corridas. Si es demasiado alto puede tardar mucho para redes grandes\n",
    "\n",
    "\n",
    "plt.figure(figsize = [10,5])\n",
    "for N in [100, 500, 1000]: #se tomarán tres redes distintas, para N igual a 100, 500 y 1000. Pueden agregar más grandes pero es posible que tarde mucho\n",
    "    p = k/(N-1)\n",
    "    \n",
    "    Y = np.zeros(100-1)\n",
    "\n",
    "    for i in range(corridas):\n",
    "        G = red_aleatoria(N,p)\n",
    "        y, x = np.histogram([dict(G.degree)[i] for i in G], bins = range(100), density = True)\n",
    "        Y += y\n",
    "    Y = Y/corridas\n",
    "\n",
    "\n",
    "\n",
    "    \n",
    "\n",
    "    plt.plot(x[:-1],Y, 'o', label = 'N = '+str(N))\n",
    "    plt.plot(x[:-1],binom.pmf(x[:-1],N-1,p))\n",
    "\n",
    "plt.xlim([0,100])\n",
    "plt.legend()"
   ]
  },
  {
   "cell_type": "markdown",
   "metadata": {
    "id": "dtHKA46CJRw1"
   },
   "source": [
    "Ya que se verifica que la distribución de probabilidad es una binomial (además se demuestra con todo detalle en uno de los videos) verificaremos que si $N$ y $\\left< k \\right>$ satisfacen cierta condición podemos trabajar con una distribución de Poisson. Esto se hace ya no con las redes, sino con las correspondientes distibuciones, ya que generar redes aleatorias con más de 10000 nodos puede requerir mucha memoria.\n",
    "\n",
    "Lo que se hace a continuación es, nuevamente, fijar la $\\left< k \\right>$ y tomar las distribuciones para redes de cuatro órdenes de magnitud. Todas se comparan con la distribución de Poisson correspondiente, para eso importamos ```poisson``` y usamos ```poisson.pmf()```:"
   ]
  },
  {
   "cell_type": "code",
   "execution_count": null,
   "metadata": {
    "id": "2ukeurSQJRw2"
   },
   "outputs": [],
   "source": [
    "from scipy.stats import poisson"
   ]
  },
  {
   "cell_type": "code",
   "execution_count": null,
   "metadata": {
    "id": "LjezSIZhJRw2"
   },
   "outputs": [],
   "source": [
    "plt.figure(figsize = [10,5])\n",
    "\n",
    "k = 50\n",
    "x = np.arange(100)\n",
    "\n",
    "# Se utilizan cuatro N's en cuatro órdenes:\n",
    "for N in [10**2, 10**3, 10**4, 10**5]:\n",
    "    p = k/(N-1)\n",
    "\n",
    "    plt.plot(x[:-1],binom.pmf(x[:-1], N-1, p), label = 'N = '+str(N))\n",
    "\n",
    "    \n",
    "\n",
    "plt.xlim([0,100])\n",
    "\n",
    "plt.plot(x[:-1], poisson.pmf(x[:-1], 50), 'k--', label = 'Poisson')\n",
    "\n",
    "plt.legend()\n",
    "plt.title('Distribuciones binomiales <k> = 50', size = 20)\n",
    "plt.xlabel('k', size = 20)\n",
    "plt.ylabel('pmf(k)', size = 20)\n",
    "\n",
    "#plt.xlim([45, 55])\n",
    "#plt.ylim([0.05, 0.06])"
   ]
  },
  {
   "cell_type": "markdown",
   "metadata": {
    "id": "P8abwfQUJRw3"
   },
   "source": [
    "Se puede ver que para $N = 10^4$, más o menos dos órdenes de magnitud mayor a $\\left< k\\right> = 50$, la distribución binomial es indistinguible de la de Poisson. Para revisar la deducción analítica de este límite, pueden ver los temas avanzados del capítulo 3 del libro de Barabasi : http://networksciencebook.com/chapter/3#advanced-a"
   ]
  },
  {
   "cell_type": "markdown",
   "metadata": {
    "id": "ZcSZsrD6JRw3"
   },
   "source": [
    "## Coeficiente de acumulación (agrupamiento) de los nodos\n",
    "En la práctica pasada se vio cómo el coeficiente de acumulación promedio de la red aleatoria coincide con la probabilidad de enlace $p$. Sin embargo, esta es una propiedad no sólo del promedio, sino que es equivalente para el mismo coeficiente en cada uno de los nodos. Para verificar eso, a continuación se grafica el coeficiente para cada nodo y se compara con los valores de $p$ y $\\left< C \\right>$\n",
    "\n",
    "De nuevo, jugando con los valores de $N$ y $p$ pueden generar la intuición de que es una propiedad general, aunque se revisará analíticamente en los videos de la semana."
   ]
  },
  {
   "cell_type": "code",
   "execution_count": null,
   "metadata": {
    "id": "q-lXftEpJRw4"
   },
   "outputs": [],
   "source": [
    "N = 100\n",
    "p = .7\n",
    "\n",
    "\n",
    "\n",
    "G = red_aleatoria(N,p)\n",
    "C = nx.average_clustering(G)\n",
    "print('El coeficiente de acumulación promedio es:\\n', C)\n",
    "print('La probabilidad de enlace p es:\\n', p)\n",
    "\n",
    "diccionario = nx.clustering(G)\n",
    "Y = [diccionario[i] for i in G]\n",
    "\n",
    "plt.figure(figsize = [15,5])\n",
    "plt.plot(Y, 'o', label = 'C_i')\n",
    "plt.plot([0,N], [p,p], 'r--', linewidth = 2, label = 'p')\n",
    "plt.plot([0,N], [C,C], 'k--', label = 'C (prom)')\n",
    "plt.ylim([0,1])\n",
    "\n",
    "plt.legend()\n",
    "plt.xlabel"
   ]
  },
  {
   "cell_type": "markdown",
   "metadata": {
    "id": "jMhK94CAJRw5"
   },
   "source": [
    "Esta propiedad es relevante para cuando queramos aplicar el modelo de redes aleatorias a redes reales, como se hará a continuación."
   ]
  },
  {
   "cell_type": "markdown",
   "metadata": {
    "id": "xbCIZdmyJRw5"
   },
   "source": [
    "## Comparación del modelo de red aleatoria con redes reales\n",
    "El modelo de red aleatoria ha resultado muy útil para aplicar los conceptos matemáticos que hemos venido estudiando hasta ahora. Ahora corresponderá utilizar este modelo para intentar describir el comportamiento de redes reales. La suposición principal detrás de esto sería pensar que las interacciones entre los elementos del sistema están dadas de forma aleatoria. Eso tendría consecuencias particularmente en propiedades como su grado promedio, su distribución de grado y el coeficiente de clustering de los nodos. Esas mismas propiedades son las que analizaremos en las redes reales.\n",
    "\n",
    "En la siguiente celda deben seleccionar el archivo de los datos que hayan elegido. Recuerden que si están trabajando en colab, deben utilizar ```files``` para subir el archivo (líneas comentadas). También recuerden el procedimiento para preparar los datos, descrito en la práctica 2 https://www.youtube.com/watch?v=tD7-9yM-xLA\n"
   ]
  },
  {
   "cell_type": "code",
   "execution_count": null,
   "metadata": {
    "id": "g5MpVzGcJRw6"
   },
   "outputs": [],
   "source": [
    "import pandas as pd\n",
    "\n",
    "from google.colab import files\n",
    "archivo = files.upload()\n",
    "\n",
    "\n"
   ]
  },
  {
   "cell_type": "code",
   "execution_count": null,
   "metadata": {
    "id": "6FS8Z66dFsTk"
   },
   "outputs": [],
   "source": [
    "ruta = ''\n",
    "\n",
    "datos = pd.read_csv(ruta,\n",
    "            nrows = 10,\n",
    "            #skiprows = 0,\n",
    "            #header = None,\n",
    "            #sep = ' ',\n",
    "            #usecols = [0,1]\n",
    "            )\n",
    "datos"
   ]
  },
  {
   "cell_type": "code",
   "execution_count": null,
   "metadata": {
    "id": "-epy8FKOJRw7"
   },
   "outputs": [],
   "source": [
    "G = nx.from_pandas_edgelist(datos, source = 0, target = 1)"
   ]
  },
  {
   "cell_type": "markdown",
   "metadata": {
    "id": "6KhykAybJRw9"
   },
   "source": [
    "Ya que se creó la red como objeto de networkx, vamos a encontrar sus propiedades generales (número de nodos, número de enlaces, grado promedio y coeficiente de clustering promedio). Además, a la red le asociaremos la probabilidad de enlace $p$ **que le correspondería *si fuera* una red aleatoria**, es decir: $$p = \\frac{\\left< k \\right>}{N-1}$$ a partir de sus propiedades empíricas $N$ y $\\left<k\\right>$. \n",
    "\n",
    "La intención de esto es, a partir de esa $p$ que junto con $N$ caracteriza a una red aleatoria $G(N,p)$, determinar las propiedades de la red aleatoria equivalente. En otras palabras, calcularemos las propiedades de la red aleatoria (el modelo) que tiene el mismo tamaño y el mismo grado promedio que nuestra red real, para luego compararlas con las propiedades de nuestra red real. Así, podremos ver si el modelo de red aleatoria se ajusta a nuestra red real.  Las propiedades que usaremos para la comparación son:\n",
    "- Coeficiente de clustering promedio\n",
    "- Distribución de grado\n",
    "- Coeficiente de clustering por nodo, en distintas representaciones.\n"
   ]
  },
  {
   "cell_type": "markdown",
   "metadata": {
    "id": "OJ50vMrpJRw-"
   },
   "source": [
    "### Coeficiente de clustering promedio\n",
    "Recordemos que el coeficiente de clustering promedio de una red aleatoria es exactamente igual a $p$. Compararemos el coeficiente de clustering promedio de la red y lo compararemos con la $p$ correspondiente:"
   ]
  },
  {
   "cell_type": "code",
   "execution_count": null,
   "metadata": {
    "id": "NlD7r6RbJRxA"
   },
   "outputs": [],
   "source": [
    "N = len(G)\n",
    "L = len(G.edges)\n",
    "k = 2*L/N\n",
    "C = nx.average_clustering(G)\n",
    "\n",
    "p = k / (N-1)\n",
    "print('Propiedades generales de tu red:')\n",
    "print('- El número de nodos es:\\t', N)\n",
    "print('- El número de enlaces es:\\t', L)\n",
    "print('- El grado promedio es:\\t\\t', k)\n",
    "\n",
    "print('\\n\\nEl coeficiente de clustering promedio de la red es:\\n', C)\n",
    "print('\\nEl coeficiente de clustering que tendría la red si fuera aleatoria (es decir p) es:\\n', p)"
   ]
  },
  {
   "cell_type": "markdown",
   "metadata": {
    "id": "H25HStAtJRxC"
   },
   "source": [
    "**Pregunta 1**\n",
    "Hablando de la primera propiedad a comparar, el coeficiente de clustering promedio:\n",
    "\n",
    "¿consideras que el modelo de red aleatoria se ajusta a la red real que estás utilizando?"
   ]
  },
  {
   "cell_type": "markdown",
   "metadata": {
    "id": "cuG3jlqWJRxD"
   },
   "source": [
    "### Distribución de grado\n",
    "Para analizar las siguientes dos propiedades vamos a hacer una tabla con el grado y el clustering de cada nodo. Para ellos se utilizarán diccionarios y un objeto de ```pandas``` que se llama ```DataFrame``` que no es más que una tabla, pero con funciones muy útiles implementadas. El procedimiento es el siguiente:\n",
    "- se generan los diccionarios de las propiedades que nos interesan, en este caso el grado y el clustering, como ya lo hemos venido haciendo. Los grados los convertimos a diccionario aplicando ```dict()```, y el clustering (como casi todas las medidas de centralidad) ya es un diccionario.\n",
    "- Esos diccionarios se introducen, en una lista, como primer argumento de la funcion ```pd.DataFrame()``` que, como las claves de ambos diccionarios son los mismos nodos, generará una tabla en la que a cada nodo le asocia sus dos propiedades. \n",
    "- En la tabla que se genera, las propiedades son los renglones y los nodos son las columnas. No es la forma más conveniente para trabajar, así que la transponemos mediante la instrucción ```.T```. Entonces, cada fila será un nodo y las columnas son las propiedades de interés.\n",
    "- Se definen los nombres de las columnas, en este caso Degree y Clustering.\n",
    "- Todo esto lo guardamos en una variable ```df``` (de dataframe)\n"
   ]
  },
  {
   "cell_type": "code",
   "execution_count": null,
   "metadata": {
    "id": "BNJbaFiRJRxE"
   },
   "outputs": [],
   "source": [
    "# se generan los diccionarios\n",
    "grado_dict = dict(nx.degree(G))\n",
    "clustering_dict = nx.clustering(G)"
   ]
  },
  {
   "cell_type": "code",
   "execution_count": null,
   "metadata": {
    "id": "jrAjA2bgJRxE"
   },
   "outputs": [],
   "source": [
    "# se genera el dataframe (la tabla)\n",
    "df = pd.DataFrame([grado_dict, clustering_dict]).T\n",
    "df.columns = ['Degree', 'Clustering']\n",
    "df"
   ]
  },
  {
   "cell_type": "markdown",
   "metadata": {
    "id": "wXr3YPxDJRxF"
   },
   "source": [
    "Para analizar la distribución de grado utilizaremos la función histogram que ya hemos usado, pero ahora aplicada a la columna 'Degree' de nuestra tabla. Para acceder a una columna completa basta con escribir el nombre de la tabla (en este caso ```df```) y, seguido de un punto, el nombre de la columna. Sabemos que ```np.histogram``` toma como argumento un arreglo de numpy. Para convertir la columna de la tabla en un arreglo, basta con agregarle, seguida de un punto, la instrucción ```values```. A continuación puedes ver la columna de la tabla y, si descomentas el resto de la línea, puedes verla convertida en arreglo:"
   ]
  },
  {
   "cell_type": "code",
   "execution_count": null,
   "metadata": {
    "id": "yw7RToZpJRxG",
    "scrolled": true
   },
   "outputs": [],
   "source": [
    "df.Degree#.values"
   ]
  },
  {
   "cell_type": "markdown",
   "metadata": {
    "id": "K7eReGedJRxG"
   },
   "source": [
    "A las columnas de un dataframe también se les pueden aplicar funciones. A continuación le aplicamos la función ```.max()``` que arroja el grado máximo de la red que utilizaremos para hacer el histograma. Se guardará ese valor como ```K``` para usarlo después."
   ]
  },
  {
   "cell_type": "code",
   "execution_count": null,
   "metadata": {
    "id": "AK_spOmLJRxH"
   },
   "outputs": [],
   "source": [
    "K = df.Degree.max()"
   ]
  },
  {
   "cell_type": "markdown",
   "metadata": {
    "id": "j7fYHuKtJRxH"
   },
   "source": [
    "Esto ya se introduce en la función histogram. Notar que ahora el parámetro ```bins``` será un ```range``` aplicado a ```K + 1```, para que cuente el número de nodos que tienen grado desde 0 hasta $k_{max}$. No olvidar que ```bins``` son las \"cajitas\" dentro de las cuales cuenta el número de elementos y el ```+1``` corresponde a que en python suele omitirse el límite superior. Así, ```range(K+1)``` es la colección [0, 1, 2, ..., K]."
   ]
  },
  {
   "cell_type": "code",
   "execution_count": null,
   "metadata": {
    "id": "YHr8EqbgJRxI"
   },
   "outputs": [],
   "source": [
    "y,x = np.histogram(df.Degree.values, bins = range(int(K)+1), density= True)"
   ]
  },
  {
   "cell_type": "markdown",
   "metadata": {
    "id": "xvaVWO0wJRxI"
   },
   "source": [
    "Ya con el histograma, se grafican tanto la distribución de probabilidad empirica\" de la red real, y la distribución de Poisson que correspondería al valor $p$ calculado. Ésta sería la distribución de probabilidad esperada si la red fuera una red aleatoria."
   ]
  },
  {
   "cell_type": "code",
   "execution_count": null,
   "metadata": {
    "id": "17bagtd8JRxJ",
    "scrolled": false
   },
   "outputs": [],
   "source": [
    "plt.figure(figsize = [15,5])\n",
    "plt.bar(x[:-1], y, label = 'pk')\n",
    "plt.plot(x[:-1], poisson.pmf(x[:-1], k), 'r--', label = 'poisson') \n",
    "\n",
    "plt.ylim([0.5*y[y>0].min(),1.1*y.max()])\n",
    "plt.xlim([0,100])\n",
    "plt.legend()\n",
    "plt.title('Comparación de la red real con la red aleatoria equivalente\\n(N = %i, p = %.4f)' %(N,p), size = 20)\n",
    "plt.xlabel('k', size = 20)"
   ]
  },
  {
   "cell_type": "markdown",
   "metadata": {
    "id": "txiXhjz4JRxJ"
   },
   "source": [
    "**Pregunta 2** \n",
    "\n",
    "¿Consideras que la distribución de grado de la red aleatoria correspondiente se ajusta a la distribución de grado de la red real que estás analizando?\n",
    "\n",
    "\n",
    "Para algunas redes reales, sobre todo aquellas muy grandes, conviene graficar la distribución de grado en escala \"log-log\". Volveremos a ello más adelante en el curso, pero por lo pronto se realiza la gráfica en esa escala con algunos parámetros que hace adecuada la visualización:"
   ]
  },
  {
   "cell_type": "code",
   "execution_count": null,
   "metadata": {
    "id": "z0LbgaNrJRxJ",
    "scrolled": false
   },
   "outputs": [],
   "source": [
    "plt.figure(figsize = [15,5])\n",
    "plt.plot(x[:-1], y, '.', label = 'Pk')\n",
    "plt.plot(x[:-1], poisson.pmf(x[:-1], k), 'r--', label = 'poisson')\n",
    "\n",
    "#Se aplica escala logarítmica a ambos ejes\n",
    "plt.xscale('log')\n",
    "plt.yscale('log')\n",
    "\n",
    "#parámetros adecuados para la visualización:\n",
    "plt.ylim([0.5*y[y>0].min(),2*y.max()])\n",
    "plt.legend()\n",
    "\n",
    "plt.title('Comparación de la red real con la red aleatoria equivalente. Escala \"log-log\"\\n(N = %i, p = %.4f)' %(N,p), size = 20)\n",
    "plt.xlabel('k', size = 20)"
   ]
  },
  {
   "cell_type": "markdown",
   "metadata": {
    "id": "fD2UVT0zJRxK"
   },
   "source": [
    "### Clustering de los nodos\n",
    "Finalmente, compararemos el clustering de los nodos medido para nuestra red real con el equivalente para la red aleatoria equivalente. Ya sabemos que para una red aleatoria, el coeficiente de clustering es igual (salvo fluctuaciones) a la probabilidad de enlace $p$. A continuación se hace la comparación para tres representaciones distintas del coeficiente de clustering de los nodos.\n",
    "\n",
    "\n",
    "#### Representación 1\n",
    "Primero se grafica el coeficiente de clustering de los nodos ordenándolos según su etiqueta. Sabemos que la etiqueta de los nodos es prácticamente arbitraria, por lo que podemos afirmar que no hay un orden en su aparición. Para esta gráfica se utiliza la columna 'Clustering' de la tabla antes creada, mediante ```df.Clustering``` y se le aplica la función ```.plot()``` con algunos parámetros para su visualización. En la misma gráfica es muestran el valor que predice el modelo de red aleatoria $\\left<C'\\right> = p$ y el valor de $\\left<C\\right>$ empírico."
   ]
  },
  {
   "cell_type": "code",
   "execution_count": null,
   "metadata": {
    "id": "g7w_qykNJRxK"
   },
   "outputs": [],
   "source": [
    "plt.figure(figsize = [15,5])\n",
    "df.Clustering.plot(style = 'b.', alpha = .4)\n",
    "\n",
    "plt.plot([0,N], [p,p], 'r--', linewidth = 3, label = 'p = %.4f' %p)\n",
    "plt.plot([0,N], [C,C], 'k--', linewidth = 3, label = '<C> = %.4f' %C)\n",
    "\n",
    "plt.xlabel('nodo i', size = 20)\n",
    "plt.ylabel('C(i)', size = 20)\n",
    "plt.legend()"
   ]
  },
  {
   "cell_type": "markdown",
   "metadata": {
    "id": "t7OoV36LJRxL"
   },
   "source": [
    "**Pregunta 3** ¿El coeficiente de clustering que el modelo predice para cada nodo, se ajusta al coeficiente de clustering de los nodos de tu red?\n",
    "\n",
    "#### Representación 2\n",
    "A continuación se hace lo mismo, pero ordenando los nodos según su grado. Esto se hace ordenando los elementos de la tabla ```df``` según el valor de la columna 'Degree' (```.sort_values('Degree')```), reasignando los índices según este nuevo orden (```.reset_index()```), tomando la columna 'Clustering' (```.Clustering```) y graficándola (```.plot()```). Nuevamente se compara con los valores del promedio y el modelo.\n",
    "\n",
    "Esta representación permitiría observar si hay alguna correlación entre el grado del nodo y su coeficiente de clustering."
   ]
  },
  {
   "cell_type": "code",
   "execution_count": null,
   "metadata": {
    "id": "lBN1ZoW_JRxL",
    "scrolled": true
   },
   "outputs": [],
   "source": [
    "plt.figure(figsize = [15,5])\n",
    "df.sort_values('Degree').reset_index().Clustering.plot(style = 'b.', alpha = .4)\n",
    "\n",
    "plt.plot([0,N], [p,p], 'r--', linewidth = 3, label = 'p = %.4f' %p)\n",
    "plt.plot([0,N], [C,C], 'k--', linewidth = 3, label = '<C> = %.4f' %C)\n",
    "\n",
    "plt.xlabel('nodo i', size = 20)\n",
    "plt.ylabel('C(i)', size = 20)\n",
    "plt.legend()"
   ]
  },
  {
   "cell_type": "markdown",
   "metadata": {
    "id": "hhtVuuTnJRxM"
   },
   "source": [
    "**Pregunta 4** ¿Detectas alguna correlación o patrón interesante entre el grado y el clustering de los nodos?\n",
    "\n",
    "\n",
    "#### Representación 3\n",
    "Finalmente, bajo la misma lógica que la anterior, se representan el clustering promedio de los nodos, agrupados según su grado. Esto limpia un poco el ruido de la representación anterior y revelaría de forma más clara si hubiera alguna correlación entre las magnitudes del grado y el clustering de los nodos. Se utiliza otra función muy poderosa de ```pandas``` llamada ```groupby```. Sin entrar en la complejidad de esta función, se explica cada parte del código a continuación por si quieren usarlo en problemas similares:\n",
    "- se agrupan los elementos de la tabla ```df``` (i.e. los nodos) según el valor del grado: ```.groupby('Degree')```\n",
    "- de la tabla agrupada, se considera sólo la columna 'Clustering': ```['Clustering']```\n",
    "- de la propiedad 'Clustering' de los datos ya agrupados, se calcula el promedio: ```.mean()```\n",
    "- ahora se forman los arreglos correspondientes al grado y al promedio del clustering aplicando tres funciones seguidas: ```.reset_index().values.T```\n",
    "- estos arreglos se guardan como X y Y, respectivamente, para graficarlos\n"
   ]
  },
  {
   "cell_type": "code",
   "execution_count": null,
   "metadata": {
    "id": "9HqdSphoJRxN"
   },
   "outputs": [],
   "source": [
    "X, Y = df.groupby('Degree')['Clustering'].mean().reset_index().values.T"
   ]
  },
  {
   "cell_type": "markdown",
   "metadata": {
    "id": "QG7-jS9oJRxO"
   },
   "source": [
    "Así, se grafican entonces el coeficiente de clustering promedio del grupo de nodos con grado $k$, que denotamos como $C(k)$. De nuevo, se indican los valores del promedio empírico y el predicho por el modelo de red aleatoria para sacar conclusiones:"
   ]
  },
  {
   "cell_type": "code",
   "execution_count": null,
   "metadata": {
    "id": "nvfVBIv7JRxP"
   },
   "outputs": [],
   "source": [
    "plt.figure(figsize=[15,5])\n",
    "plt.plot(X, Y, '.')\n",
    "\n",
    "plt.plot([0,K], [p,p], 'r--', label = 'p = %.4f' %p)\n",
    "plt.plot([0,K], [C,C], 'k--', label = '<C> = %.4f' %C)\n",
    "\n",
    "plt.xlabel('k', size = 20)\n",
    "plt.ylabel('C(k)', size = 20)\n",
    "plt.legend()"
   ]
  },
  {
   "cell_type": "markdown",
   "metadata": {
    "id": "fE_z8CC8JRxR"
   },
   "source": [
    "**Pregunta 5** En esta representación, ¿encuentras alguna correlación o patrón interesante entre los valores de $k$ y $C$?"
   ]
  }
 ],
 "metadata": {
  "colab": {
   "name": "Práctica 4. Redes aleatorias.ipynb",
   "provenance": []
  },
  "kernelspec": {
   "display_name": "Python 3",
   "language": "python",
   "name": "python3"
  },
  "language_info": {
   "codemirror_mode": {
    "name": "ipython",
    "version": 3
   },
   "file_extension": ".py",
   "mimetype": "text/x-python",
   "name": "python",
   "nbconvert_exporter": "python",
   "pygments_lexer": "ipython3",
   "version": "3.6.8"
  }
 },
 "nbformat": 4,
 "nbformat_minor": 2
}