{
 "cells": [
  {
   "cell_type": "markdown",
   "id": "1a6a95e3",
   "metadata": {
    "id": "kluCFbyA4CVV"
   },
   "source": [
    "# Práctica 5 (notebook)\n",
    "En esta práctica se implementa el modelo de Barabasi-Albert que genera una red con independencia de escala. El modelo fue propuesto por Lászlo Barabási y Réka Albert ([artículo](https://web.archive.org/web/20120417112354/http://www.nd.edu/~networks/Publication%20Categories/03%20Journal%20Articles/Physics/EmergenceRandom_Science%20286,%20509-512%20(1999).pdf)) en 1999.\n",
    "\n",
    "Esta implementación hace lo siguiente:\n",
    "\n",
    "1. Generar una red inicial con ```m0``` nodos. No importa su número de nodos ni su forma, sólo debe ser conexa.\n",
    "2. A cada paso debe:\n",
    " - calcular la probabilidad de enlace de cada nodo de la red que será proporcional a su grado. Si tienen un vector grado, el vector de probabilidad no es más que grado / suma(grado)\n",
    " - agregar un nodo ( G.add_node() ) y enlazarlo con ```m``` nodos viejos elegidos según la probabilidad calculada antes. Se recomienda usar la función ```np.random.choice()``` aplicada a la lista de nodos viejos y la probabilidad ([manual](https://numpy.org/doc/stable/reference/random/generated/numpy.random.choice.html)) sin reemplazo\n",
    "3. Después de hacer lo anterior muchas veces (unas de 10000 o más) calcular la distribución de grado de la red resultante y verificar que se comporta como una red con independencia de escala.\n",
    "4. En caso de que sí, calcular el exponente de la ley de potencia de la distribución."
   ]
  },
  {
   "cell_type": "code",
   "execution_count": null,
   "id": "1cf80bcd",
   "metadata": {
    "id": "iYVNGtMjACgG"
   },
   "outputs": [],
   "source": [
    "import networkx as nx\n",
    "import numpy as np\n",
    "import matplotlib.pyplot as plt\n",
    "from itertools import permutations"
   ]
  },
  {
   "cell_type": "code",
   "execution_count": null,
   "id": "401cb2af",
   "metadata": {
    "id": "wX_q_d9RACgl"
   },
   "outputs": [],
   "source": [
    "\n",
    "\n",
    "m0 = 4 #tamano de la semilla\n",
    "m = 1 #numero de enlaces que tiene cada nuevo nodo\n",
    "G = nx.Graph()\n",
    "\n",
    "for i in range(m0):\n",
    "    G.add_node(i)\n",
    "G.add_edges_from(list(permutations(list(G),2))) #se hace una red completa de tamano m0\n",
    "\n",
    "\n",
    "for i in range(len(G),10000): #para 100000 ya tarda un rato\n",
    "    grados = np.array(list(dict(G.degree).values()))\n",
    "    probabilidades = grados / sum(grados)\n",
    "    nodos = np.random.choice(list(G), size = m, p = probabilidades, replace = False)\n",
    "    G.add_node(i)\n",
    "    for j in nodos:\n",
    "        G.add_edge(i, j)"
   ]
  },
  {
   "cell_type": "markdown",
   "id": "92b02df2",
   "metadata": {
    "id": "DwJC4OUEByG4"
   },
   "source": [
    "## Análisis de grado"
   ]
  },
  {
   "cell_type": "code",
   "execution_count": null,
   "id": "9f77a237",
   "metadata": {
    "id": "ifJDqiU5ACg2"
   },
   "outputs": [],
   "source": [
    "grados = list(dict(G.degree).values())\n",
    "\n",
    "y, x = np.histogram(grados, bins = max(grados))\n",
    "x_med = (x[:-1] + x[1:])*.5\n",
    "\n",
    "plt.plot(x_med, y, 'o-')\n",
    "plt.plot()"
   ]
  },
  {
   "cell_type": "code",
   "execution_count": null,
   "id": "9539c324",
   "metadata": {
    "id": "3qYGycP8ACg4"
   },
   "outputs": [],
   "source": [
    "y, x = np.histogram(grados, bins = max(grados))\n",
    "x_med = (x[:-1] + x[1:])*.5\n",
    "\n",
    "plt.plot(x_med, y, 'o')\n",
    "plt.plot(x_med, 30000*x_med**(-3.), '-')\n",
    "plt.yscale('log')\n",
    "plt.xscale('log')\n",
    "plt.plot()"
   ]
  },
  {
   "cell_type": "code",
   "execution_count": null,
   "id": "7c61844c",
   "metadata": {
    "id": "d9ml7ESrACg6"
   },
   "outputs": [],
   "source": [
    "max_log = np.log10(max(grados))\n",
    "log_bin = np.logspace(0, max_log, 20)"
   ]
  },
  {
   "cell_type": "code",
   "execution_count": null,
   "id": "c754c4a3",
   "metadata": {
    "id": "wxP2p1KWACg8"
   },
   "outputs": [],
   "source": [
    "y, x = np.histogram(grados, bins = log_bin, density = True)\n",
    "x_med = (x[:-1] + x[1:])*.5\n",
    "\n",
    "plt.plot(x_med, y, 'o')\n",
    "plt.plot(x_med, 20*x_med**(-3.), '-')\n",
    "\n",
    "plt.yscale('log')\n",
    "plt.xscale('log')\n",
    "plt.plot()"
   ]
  },
  {
   "cell_type": "code",
   "execution_count": null,
   "id": "efcab476",
   "metadata": {
    "id": "D3Sizs2lDC6K"
   },
   "outputs": [],
   "source": []
  }
 ],
 "metadata": {
  "kernelspec": {
   "display_name": "Python 3",
   "language": "python",
   "name": "python3"
  }
 },
 "nbformat": 4,
 "nbformat_minor": 5
}