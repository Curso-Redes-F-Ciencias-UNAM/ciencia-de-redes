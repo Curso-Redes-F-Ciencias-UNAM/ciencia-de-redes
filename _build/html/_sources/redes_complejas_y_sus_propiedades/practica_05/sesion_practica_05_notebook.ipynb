{
 "cells": [
  {
   "cell_type": "markdown",
   "id": "fed57a44",
   "metadata": {
    "id": "kluCFbyA4CVV"
   },
   "source": [
    "# Práctica 5 (notebook)\n",
    "En esta práctica se implementa el modelo de Barabasi-Albert que genera una red con independencia de escala. El modelo fue propuesto por Lászlo Barabási y Réka Albert en 1999 ([artículo](https://web.archive.org/web/20120417112354/http://www.nd.edu/~networks/Publication%20Categories/03%20Journal%20Articles/Physics/EmergenceRandom_Science%20286,%20509-512%20(1999).pdf)).\n",
    "\n",
    "Esta implementación hace lo siguiente:\n",
    "\n",
    "1. Generar una red inicial con ```m0``` nodos. No importa su número de nodos ni su forma, sólo debe ser conexa.\n",
    "2. A cada paso debe:\n",
    " - calcular la probabilidad de enlace de cada nodo de la red que será proporcional a su grado. Si tienen un vector grado, el vector de probabilidad no es más que grado / suma(grado)\n",
    " - agregar un nodo ( G.add_node() ) y enlazarlo con ```m``` nodos viejos elegidos según la probabilidad calculada antes. Se recomienda usar la función ```np.random.choice()``` aplicada a la lista de nodos viejos y la probabilidad ([manual](https://numpy.org/doc/stable/reference/random/generated/numpy.random.choice.html)) sin reemplazo\n",
    "3. Después de hacer lo anterior muchas veces (unas de 10000 o más) calcular la distribución de grado de la red resultante y verificar que se comporta como una red con independencia de escala.\n",
    "4. En caso de que sí, calcular el exponente de la ley de potencia de la distribución."
   ]
  },
  {
   "cell_type": "code",
   "execution_count": null,
   "id": "3f08b7a9",
   "metadata": {
    "id": "iYVNGtMjACgG"
   },
   "outputs": [],
   "source": [
    "import networkx as nx\n",
    "import numpy as np\n",
    "import matplotlib.pyplot as plt\n",
    "from itertools import permutations"
   ]
  },
  {
   "cell_type": "markdown",
   "id": "8b48958f",
   "metadata": {
    "id": "SX5qRj5CHwsZ"
   },
   "source": [
    "Con la siguiente celda se genera la semilla, la red inicial sobre la que se agregarán nodos. Puedes jugar con el tamaño de la semilla y el número de enlaces que tendrá cada nuevo nodo"
   ]
  },
  {
   "cell_type": "code",
   "execution_count": null,
   "id": "6005997a",
   "metadata": {
    "colab": {
     "base_uri": "https://localhost:8080/",
     "height": 247
    },
    "id": "wX_q_d9RACgl",
    "outputId": "80aa18a0-19b3-46ca-e0cd-d6f7a24a1ab8"
   },
   "outputs": [],
   "source": [
    "\n",
    "\n",
    "m0 = 3 #tamano de la semilla\n",
    "m = 1 #numero de enlaces que tiene cada nuevo nodo\n",
    "G = nx.Graph()\n",
    "\n",
    "for i in range(m0):\n",
    "    G.add_node(i)\n",
    "G.add_edges_from(list(permutations(list(G),2))) #se hace una red completa de tamano m0\n",
    "\n",
    "plt.figure(figsize = [3,3])\n",
    "nx.draw(G)"
   ]
  },
  {
   "cell_type": "markdown",
   "id": "d6a3af30",
   "metadata": {
    "id": "9bvc1SaXH_zq"
   },
   "source": [
    "En la siguiente celda se agrega un nodo según la regla de enlace preferencial respecto al grado. Primero se genera el arreglo de los grados de los nodos, se normaliza para que sea una probabilidad de enlace y se utiliza para seleccionar los nodos con los que se enlazará. Puedes correr la celda cada vez para ver el nodo agregado y la evolución de la red"
   ]
  },
  {
   "cell_type": "code",
   "execution_count": null,
   "id": "3ecd9d9d",
   "metadata": {
    "id": "MWVwdo9iF4J8"
   },
   "outputs": [],
   "source": [
    "grados = np.array(list(G.degree(nodo) for nodo in G))\n",
    "probabilidades = grados / sum(grados)\n",
    "nodos = np.random.choice(list(G), size = m, p = probabilidades, replace = False)\n",
    "i = len(G)\n",
    "G.add_node(i)\n",
    "for j in nodos:\n",
    "    G.add_edge(i, j)\n",
    "\n",
    "color = ['b' for i in G]\n",
    "color[-1] = 'r'\n",
    "tamanio = np.array(list(G.degree(nodo) for nodo in G))\n",
    "tamanio = tamanio/tamanio.sum()\n",
    "plt.figure(figsize = [3,3])\n",
    "nx.draw_kamada_kawai(G, node_color = color, node_size = 250*tamanio+50, edgecolors='black')"
   ]
  },
  {
   "cell_type": "code",
   "execution_count": null,
   "id": "706ecb74",
   "metadata": {
    "id": "Ic55RTtQF4Wf"
   },
   "outputs": [],
   "source": [
    "for i in range(len(G),10000): #para 100000 ya tarda un rato\n",
    "    grados = np.array(list(dict(G.degree).values()))\n",
    "    probabilidades = grados / sum(grados)\n",
    "    nodos = np.random.choice(list(G), size = m, p = probabilidades, replace = False)\n",
    "    G.add_node(i)\n",
    "    for j in nodos:\n",
    "        G.add_edge(i, j)"
   ]
  },
  {
   "cell_type": "markdown",
   "id": "01ddf507",
   "metadata": {
    "id": "DwJC4OUEByG4"
   },
   "source": [
    "## Análisis de grado"
   ]
  },
  {
   "cell_type": "code",
   "execution_count": null,
   "id": "3c7049ac",
   "metadata": {
    "colab": {
     "base_uri": "https://localhost:8080/",
     "height": 283
    },
    "id": "ifJDqiU5ACg2",
    "outputId": "dcf2b0e3-5432-4fb5-b04c-80e1ae0fd848"
   },
   "outputs": [],
   "source": [
    "grados = list(dict(G.degree).values())\n",
    "\n",
    "y, x = np.histogram(grados, bins = max(grados))\n",
    "x_med = (x[:-1] + x[1:])*.5\n",
    "\n",
    "plt.plot(x_med, y, 'o-')\n",
    "plt.plot()"
   ]
  },
  {
   "cell_type": "code",
   "execution_count": null,
   "id": "7af2c0c9",
   "metadata": {
    "colab": {
     "base_uri": "https://localhost:8080/",
     "height": 287
    },
    "id": "3qYGycP8ACg4",
    "outputId": "f865f724-60af-4978-8520-da8e0c6dd70e"
   },
   "outputs": [],
   "source": [
    "y, x = np.histogram(grados, bins = max(grados))\n",
    "x_med = (x[:-1] + x[1:])*.5\n",
    "\n",
    "plt.plot(x_med, y, 'o')\n",
    "plt.plot(x_med, 30000*x_med**(-3.), '-')\n",
    "plt.yscale('log')\n",
    "plt.xscale('log')\n",
    "plt.plot()"
   ]
  },
  {
   "cell_type": "code",
   "execution_count": null,
   "id": "458674f5",
   "metadata": {
    "id": "d9ml7ESrACg6"
   },
   "outputs": [],
   "source": [
    "max_log = np.log10(max(grados))\n",
    "log_bin = np.logspace(0, max_log, 20)"
   ]
  },
  {
   "cell_type": "code",
   "execution_count": null,
   "id": "b08d7b71",
   "metadata": {
    "colab": {
     "base_uri": "https://localhost:8080/",
     "height": 287
    },
    "id": "wxP2p1KWACg8",
    "outputId": "ed15b0e5-c3e0-429b-a256-08b6d7dce932"
   },
   "outputs": [],
   "source": [
    "y, x = np.histogram(grados, bins = log_bin, density = True)\n",
    "x_med = (x[:-1] + x[1:])*.5\n",
    "\n",
    "plt.plot(x_med, y, 'o')\n",
    "plt.plot(x_med, 20*x_med**(-3.), '-')\n",
    "\n",
    "plt.yscale('log')\n",
    "plt.xscale('log')\n",
    "plt.plot()"
   ]
  },
  {
   "cell_type": "code",
   "execution_count": null,
   "id": "7d68d2f1",
   "metadata": {
    "id": "D3Sizs2lDC6K"
   },
   "outputs": [],
   "source": []
  }
 ],
 "metadata": {
  "kernelspec": {
   "display_name": "Python 3",
   "language": "python",
   "name": "python3"
  }
 },
 "nbformat": 4,
 "nbformat_minor": 5
}